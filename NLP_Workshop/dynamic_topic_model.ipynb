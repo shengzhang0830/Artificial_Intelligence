{
 "cells": [
  {
   "cell_type": "markdown",
   "metadata": {},
   "source": [
    "# Dynamic Topic Models\n",
    "\n",
    "Dynamic topic models are implemented in C code in [this repository](https://github.com/magsilva/dtm). Fortunately, `gensim` provides a python wrapper. See the [gensim documentation](https://radimrehurek.com/gensim/models/dtmmodel.html).\n",
    "\n",
    "You will notice that `gensim` needs the compiled C code. If you use Windows, this is the file `dtm-win64.exe`. You can download this file from [here](https://github.com/magsilva/dtm/tree/master/bin).\n",
    "\n",
    "You may also check [this tutorial](https://github.com/RaRe-Technologies/gensim/blob/0.12.4/docs/notebooks/dtm_example.ipynb)."
   ]
  }
 ],
 "metadata": {
  "anaconda-cloud": {},
  "kernelspec": {
   "display_name": "Python [conda root]",
   "language": "python",
   "name": "conda-root-py"
  },
  "language_info": {
   "codemirror_mode": {
    "name": "ipython",
    "version": 3
   },
   "file_extension": ".py",
   "mimetype": "text/x-python",
   "name": "python",
   "nbconvert_exporter": "python",
   "pygments_lexer": "ipython3",
   "version": "3.5.2"
  }
 },
 "nbformat": 4,
 "nbformat_minor": 1
}
