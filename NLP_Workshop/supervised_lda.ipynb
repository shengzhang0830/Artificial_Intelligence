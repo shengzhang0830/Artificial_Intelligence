{
 "cells": [
  {
   "cell_type": "markdown",
   "metadata": {},
   "source": [
    "# Supervised LDA #"
   ]
  },
  {
   "cell_type": "markdown",
   "metadata": {},
   "source": [
    "The supervised LDA is described in the following paper:  \n",
    "Mcauliffe, J. D., & Blei, D. M. (2008). Supervised topic models. In Advances in neural information processing systems (pp. 121-128).  \n",
    "It's original approach is implemented here:  \n",
    "http://www.cs.cmu.edu/~chongw/slda/  \n",
    "\n",
    "\n",
    "A more recent implementation is available on GitHub:  \n",
    "https://github.com/blei-lab/class-slda  \n",
    "\n",
    "\n",
    "We will be using this implementation in our lab session. Please follow the readme file in this repository for instructions on how to use it.  \n",
    "\n",
    "Alternatively there is another implementation of supervised LDA available at the following GitHub repository:  \n",
    "https://github.com/Savvysherpa/slda  \n",
    "This implementation is based on [Cython](http://cython.org) and it requires installing certain packages such as [this one](https://github.com/Savvysherpa/pypolyagamma). Installation instructions are provided in the repository. This implementation should work in reality. Once the packages are installed you should proceed by exploring the examples notebooks:  \n",
    "https://github.com/Savvysherpa/slda/tree/master/slda"
   ]
  },
  {
   "cell_type": "code",
   "execution_count": null,
   "metadata": {
    "collapsed": true
   },
   "outputs": [],
   "source": []
  }
 ],
 "metadata": {
  "anaconda-cloud": {},
  "kernelspec": {
   "display_name": "Python 3",
   "language": "python",
   "name": "python3"
  },
  "language_info": {
   "codemirror_mode": {
    "name": "ipython",
    "version": 3
   },
   "file_extension": ".py",
   "mimetype": "text/x-python",
   "name": "python",
   "nbconvert_exporter": "python",
   "pygments_lexer": "ipython3",
   "version": "3.5.3"
  }
 },
 "nbformat": 4,
 "nbformat_minor": 2
}
