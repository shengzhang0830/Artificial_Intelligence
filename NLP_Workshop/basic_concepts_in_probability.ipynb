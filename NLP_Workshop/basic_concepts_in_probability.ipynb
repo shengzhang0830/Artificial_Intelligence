{
 "cells": [
  {
   "cell_type": "markdown",
   "metadata": {
    "collapsed": true
   },
   "source": [
    "# Basic Concepts in Probability#"
   ]
  },
  {
   "cell_type": "markdown",
   "metadata": {},
   "source": [
    "In this lab session we'll focus on implementing and computing basic concepts in probability. More specifically we'll focus on the following three rules from the probability theory:  \n",
    "  \n",
    "  \n",
    "* **Sum rule:**  \n",
    "$\\Large p(X) = \\sum_Y{p(X,Y)}$\n",
    "  \n",
    "  \n",
    "  \n",
    "* **Product rule (also known as the chain rule):**  \n",
    "$\\Large p(X,Y) = p(Y|X)p(X)$\n",
    "\n",
    "The elements in the above equations are referred to as:  \n",
    "* $\\Large p(X,Y)=p(Y,X)$ - Joint probability\n",
    "* $\\Large p(Y|X)$ - Conditional probability  \n",
    "If two random variables $X$ and $Y$ are independent of each other then their conditional probability $p(X|Y)$ is the same as the marginal $p(X)$.  \n",
    "* $\\Large p(X)$ - Marginal or Prior probability  \n",
    "Under the sum rule this probability is known as the marginal probability since it is obtained by marginalizing or summing out the other variable (Y) in the joint probability $p(X,Y)$.    \n",
    "\n",
    "  \n",
    "  \n",
    "* **Bayes' Rule:**  \n",
    "$\\Large p(Y|X) = \\frac{p(X,Y)}{p(X)} = \\frac{p(X|Y)p(Y)}{p(X)}$  \n",
    "  \n",
    "  \n",
    "Using the sum rule we could further expand the denominator in the Bayes' rule:  \n",
    "\n",
    "$\\Large p(Y|X) = \\frac{p(X|Y)p(Y)}{p(X)} = \\frac{p(X|Y)p(Y)}{\\sum_Y{p(X,Y)}}$  \n",
    "\n",
    "The denominator in the Bayes' rule plays an important factor in that it makes sure that the probability values across all Y variables sum to one and therefore it is often referred to as the normalizing constant.  \n",
    "Bayes' rule plays an important role in machine learning. Under this theorem each probability component in the rule has a precise definition and it is referred to as: \n",
    "\n",
    "* $\\Large p(Y|X)$ - Posterior probability  \n",
    "\n",
    "* $\\Large p(X|Y)$ - Likelihood \n",
    "\n",
    "* $\\Large p(Y)$ - Prior probability  \n",
    "\n",
    "* $\\Large p(X)=\\sum_Y{p(X,Y)}$ - Marginalized likelihood\n",
    "\n",
    "One fundamental use of this rule is in Bayesian model estimation where we have two random variable, the model $M$ and the data sample $D$. We are interested in the most probable model that explains the data:  \n",
    "\n",
    "$\\Large argmax_M{p(M|D)} = argmax_M{\\frac{p(D|M)p(M)}{p(D)}}$  \n",
    "\n",
    "The model is selected based on how well it explains the data sample $p(D|M)$ and in general how good of a model it is. The latter information is contained in the prior probability $p(M)$. The marginalizing constant doesn't play an important role in the process of finding the most suitable model as it is computed by marginalizing over all possible models. \n"
   ]
  },
  {
   "cell_type": "markdown",
   "metadata": {},
   "source": [
    "\n",
    "## Using the Above Rules ##"
   ]
  },
  {
   "cell_type": "markdown",
   "metadata": {},
   "source": [
    "In this part of the lab session we'll cover a simple example of using Bayes' rule to compute a conditional. Let's assume that we have two boxes, a red one and a blue one. Let's also assume that both boxes are filled with balls with two colors: black and gold. More specifically, in the red box we have 7 gold and 5 black balls and in the blue box we have 3 gold and 6 black balls. \n",
    "\n",
    "We could also use this example to depict a situation where we have two cell phone stores from two different mobile operators (e.g. AT&T and Verizon) and both of these stores carry the same smartphone model (balls) that comes in two colors (gold and black). \n",
    "![Two Bins](prob_dist.jpg)\n",
    "\n",
    "Given that the box is red the probability of choosing a golden ball is:  \n",
    "$p(C=g|B=r) = \\frac{7}{12}=0.583$  \n",
    "  \n",
    "  \n",
    "The probability of choosing a black ball is:  \n",
    "$p(C=k|B=r) = \\frac{5}{12}=0.417$ or:  \n",
    "\n",
    "$p(C=k|B=r)=1-p(C=g|B=r)$ \n",
    "\n"
   ]
  },
  {
   "cell_type": "markdown",
   "metadata": {},
   "source": [
    "We could compute the same conditional probabilities for the blue box:  \n",
    "$p(C=g|B=b) = \\frac{3}{9}=0.33$  \n",
    "\n",
    "$p(C=k|B=b) = \\frac{6}{9}=0.67$ or:  \n",
    "\n",
    "$p(C=k|B=b)=1-p(C=g|B=b)$"
   ]
  },
  {
   "cell_type": "markdown",
   "metadata": {},
   "source": [
    "Let's assume that the probability of choosing the red box is:  \n",
    "$p(B=r)=\\frac{2}{5}=0.4$  \n",
    "\n",
    "Given that a person has picked a golden ball we are assigned with the task of computing the probability that the golden ball was picked from the red box, i.e. $p(B=r|C=g)$. How do we go about computing this probability?\n",
    "\n"
   ]
  },
  {
   "cell_type": "markdown",
   "metadata": {},
   "source": [
    "The alternative description of the problem would be:  \n",
    "We have the red box depicting the Verizon store and the blue box depicting the AT&T store in our neighborhood. We noticed that our neighbor Mark recently obtained a golden color iPhone and our goal is to compute the probability of Mark purchasing his new phone from the Verizon store. Since the Verizon store is further away from our apartment building compared to the AT&T store, we'll assign the probability of Mark visiting the Verizon store to be $p(Verizon)=0.4$ ."
   ]
  },
  {
   "cell_type": "markdown",
   "metadata": {},
   "source": [
    "Let's start by writing down the probability of picking a golden ball $p(C=g)$:  \n",
    "\n",
    "$p(C=g)=p(C=g|B=r)p(B=r)+p(C=g|B=b)P(B=b)$ \n",
    "\n",
    "$p(C=g)=0.583*0.4+0.33*0.6 = 0.233+0.198 = 0.433$   "
   ]
  },
  {
   "cell_type": "markdown",
   "metadata": {},
   "source": [
    "We then derive the required probability:  \n",
    "\n",
    "\n",
    "$\\Large p(B=r|C=g)=\\frac{p(C=g|B=r)p(B=r)}{p(C=g)}=\\frac{0.583*0.4}{0.433}=0.538$"
   ]
  },
  {
   "cell_type": "markdown",
   "metadata": {},
   "source": [
    "Let's now implement this computation in python:"
   ]
  },
  {
   "cell_type": "code",
   "execution_count": null,
   "metadata": {
    "collapsed": true
   },
   "outputs": [],
   "source": [
    "red_box = ['gold', 'gold','gold','gold', 'gold', 'gold','gold','black','black','black','black','black']\n",
    "blue_box = ['gold', 'gold','gold','black','black','black','black','black','black']\n",
    "\n",
    "c_gr=0\n",
    "c_kr=0\n",
    "for balls in red_box:\n",
    "    if (balls=='gold'):\n",
    "        c_gr +=1\n",
    "    else:\n",
    "        c_kr+=1\n",
    "\n",
    "c_gb=0\n",
    "c_kb=0\n",
    "for balls in blue_box:\n",
    "    if (balls=='gold'):\n",
    "        c_gb +=1\n",
    "    else:\n",
    "        c_kb+=1\n",
    "print(\"Golden Balls in Red box=\"+str(c_gr))\n",
    "print(\"Black Balls in Red box=\"+str(c_kr))\n",
    "print(\"Golden Balls in Blue box=\"+str(c_gb))\n",
    "print(\"Black Balls in Blue box=\"+str(c_kb))\n",
    "\n",
    "p_gr = (1.0)*c_gr/(c_gr+c_kr)\n",
    "print(\"p(C=g|B=r)=\"+str(p_gr))\n",
    "p_kr = 1-p_gr\n",
    "\n",
    "p_gb = (1.0)*c_gb/(c_gb+c_kb)\n",
    "p_kb = 1-p_gb\n",
    "\n",
    "p_r = 0.4\n",
    "print(\"p(B=r)=\"+str(p_r))\n",
    "p_b = 1-p_r\n",
    "p_g = p_gr*p_r+p_gb*p_b\n",
    "print(\"p(C=g)=\"+str(p_g))"
   ]
  },
  {
   "cell_type": "markdown",
   "metadata": {},
   "source": [
    "**[Assignment 1]** How do we compute $p(B=r\\ |\\ C=g)$ using the code above?"
   ]
  },
  {
   "cell_type": "markdown",
   "metadata": {},
   "source": [
    "**[Solution 1]**"
   ]
  },
  {
   "cell_type": "code",
   "execution_count": null,
   "metadata": {
    "collapsed": true
   },
   "outputs": [],
   "source": []
  }
 ],
 "metadata": {
  "anaconda-cloud": {},
  "kernelspec": {
   "display_name": "Python 3",
   "language": "python",
   "name": "python3"
  },
  "language_info": {
   "codemirror_mode": {
    "name": "ipython",
    "version": 3
   },
   "file_extension": ".py",
   "mimetype": "text/x-python",
   "name": "python",
   "nbconvert_exporter": "python",
   "pygments_lexer": "ipython3",
   "version": "3.6.0"
  }
 },
 "nbformat": 4,
 "nbformat_minor": 1
}
