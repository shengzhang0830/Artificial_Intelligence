{
 "cells": [
  {
   "cell_type": "markdown",
   "metadata": {},
   "source": [
    "# Sentiment Analysis #"
   ]
  },
  {
   "cell_type": "markdown",
   "metadata": {},
   "source": [
    "There are multiple approaches that one could follow for implementing their own sentiment analyzer. Here we outline some of the approaches that one could take using the NLTK package. As we discussed during the brief lecture on sentiment analysis one could build their own sentiment analyzer using a labeled set of text and a classifier. "
   ]
  },
  {
   "cell_type": "markdown",
   "metadata": {
    "collapsed": true
   },
   "source": [
    "## Sentiment Analysis through NLTK ##\n",
    "A good resource on using NLTK's implementation of a sentiment analyzer is provided in the following NLTK documentation:  \n",
    "http://www.nltk.org/api/nltk.sentiment.html  \n",
    "Spent a little bit of time in exploring this module and learning about the different implementation methods. \n",
    "A good starting point would be to use one of the following methods:  \n",
    "* __nltk.sentiment.util.demo_liu_hu_lexicon__ which counts the number of positive, negative and neutral words using [this lexicon](https://github.com/woodrad/Twitter-Sentiment-Mining/tree/master/Hu%20and%20Liu%20Sentiment%20Lexicon).  \n",
    "* __nltk.sentiment.vader__ method which is based on [this work](http://comp.social.gatech.edu/papers/icwsm14.vader.hutto.pdf).  \n",
    "\n",
    "Here is another NLTK web based source of information on their sentiment analysis module:  \n",
    "http://www.nltk.org/howto/sentiment.html  \n",
    "A more detailed resource is the NLTK GitHub page:  \n",
    "https://github.com/nltk/nltk/wiki/Sentiment-Analysis"
   ]
  },
  {
   "cell_type": "code",
   "execution_count": null,
   "metadata": {
    "collapsed": true
   },
   "outputs": [],
   "source": [
    "## Sentiment Analysis through Sk"
   ]
  }
 ],
 "metadata": {
  "anaconda-cloud": {},
  "kernelspec": {
   "display_name": "Python 3",
   "language": "python",
   "name": "python3"
  },
  "language_info": {
   "codemirror_mode": {
    "name": "ipython",
    "version": 3
   },
   "file_extension": ".py",
   "mimetype": "text/x-python",
   "name": "python",
   "nbconvert_exporter": "python",
   "pygments_lexer": "ipython3",
   "version": "3.5.3"
  }
 },
 "nbformat": 4,
 "nbformat_minor": 2
}
